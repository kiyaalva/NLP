{
 "cells": [
  {
   "cell_type": "markdown",
   "id": "79cb14cc",
   "metadata": {},
   "source": [
    "WORD TO VEC in simple terms\n",
    "\n",
    "apple -- [ -0.1, 0.2,0,3]\n",
    "word --- vector \n",
    "numerical representation of a word - word embedding\n",
    "\n",
    "matrix of these word embeddings -- word embedding matrix"
   ]
  },
  {
   "cell_type": "markdown",
   "id": "cf3f297e",
   "metadata": {},
   "source": [
    "Word2Vec\n",
    "\n",
    "GloVe\n",
    "\n",
    "FastText\n",
    "\n",
    "Transformers (e.g., BERT)\n",
    "\n",
    "Simply put they are matrices \n",
    "\n",
    "if the v number of vocabs and a dimension of 100 is set \n",
    "the each word is represented as a vector \n",
    "\n",
    "v*d is the size of the matrix and each row of this matric represents a word\n",
    "\n",
    "\n",
    "Model\tKey Idea\n",
    "Word2Vec\tPredicts surrounding words (context) using one word\n",
    "GloVe\tLearns from global word co-occurrence statistics\n",
    "FastText\tLike Word2Vec, but includes subword information (helps with misspellings or rare words)\n",
    "BERT\tContextual: the vector for a word depends on the sentence it's in\n",
    "\n",
    "In BERT, “bank” in “river bank” and “money bank” will have different vectors — unlike Word2Vec/GloVe."
   ]
  },
  {
   "cell_type": "markdown",
   "id": "a9773d6f",
   "metadata": {},
   "source": [
    "Cosine similarity used to analyzing word relations \n",
    "cos(0) = 1\n",
    "cos(90) = 0\n",
    "\n",
    "as we know words are represented numerical \n",
    "but the numerical representation is done such that such that if the words are related the difference between the numbers is less\n",
    " yin yan 0.1 - 0.2 == 0.01 highly related\n",
    " yin tomato 0.1 - 1 == 0.9 totally unrelated\n",
    "\n",
    " when plotting yin and yang in  a graph the points are very close making the angle between them close to 0 cos(0) then is a value close to 1\n",
    " implying words are highly related\n",
    "\n",
    " and when plotting yin and tomato the points are so far apart that cos(angle) is could be cos(90) a high value cos(90) is 0 \n",
    " so the value of cos for points that are far apart is close to 0 \n",
    " lesser the cos() value less related are the words"
   ]
  },
  {
   "cell_type": "markdown",
   "id": "ea52975d",
   "metadata": {},
   "source": []
  }
 ],
 "metadata": {
  "language_info": {
   "name": "python"
  }
 },
 "nbformat": 4,
 "nbformat_minor": 5
}
