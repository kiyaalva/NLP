{
 "cells": [
  {
   "cell_type": "markdown",
   "id": "79cb14cc",
   "metadata": {},
   "source": [
    "WORD TO VEC in simple terms\n",
    "\n",
    "apple -- [ -0.1, 0.2,0,3]\n",
    "word --- vector \n",
    "numerical representation of a word - word embedding\n",
    "\n",
    "matrix of these word embeddings -- word embedding matrix"
   ]
  },
  {
   "cell_type": "code",
   "execution_count": 6,
   "id": "b735a7ba",
   "metadata": {},
   "outputs": [
    {
     "name": "stdout",
     "output_type": "stream",
     "text": [
      "Collecting gensim\n",
      "  Downloading gensim-4.3.3-cp312-cp312-win_amd64.whl.metadata (8.2 kB)\n",
      "Collecting numpy<2.0,>=1.18.5 (from gensim)\n",
      "  Downloading numpy-1.26.4-cp312-cp312-win_amd64.whl.metadata (61 kB)\n",
      "Collecting scipy<1.14.0,>=1.7.0 (from gensim)\n",
      "  Downloading scipy-1.13.1-cp312-cp312-win_amd64.whl.metadata (60 kB)\n",
      "Collecting smart-open>=1.8.1 (from gensim)\n",
      "  Downloading smart_open-7.1.0-py3-none-any.whl.metadata (24 kB)\n",
      "Collecting wrapt (from smart-open>=1.8.1->gensim)\n",
      "  Downloading wrapt-1.17.2-cp312-cp312-win_amd64.whl.metadata (6.5 kB)\n",
      "Downloading gensim-4.3.3-cp312-cp312-win_amd64.whl (24.0 MB)\n",
      "   ---------------------------------------- 0.0/24.0 MB ? eta -:--:--\n",
      "   ------------- -------------------------- 8.1/24.0 MB 45.7 MB/s eta 0:00:01\n",
      "   ----------------------------------- ---- 21.5/24.0 MB 54.3 MB/s eta 0:00:01\n",
      "   ---------------------------------------- 24.0/24.0 MB 46.0 MB/s eta 0:00:00\n",
      "Downloading numpy-1.26.4-cp312-cp312-win_amd64.whl (15.5 MB)\n",
      "   ---------------------------------------- 0.0/15.5 MB ? eta -:--:--\n",
      "   ---------------------------------------  15.5/15.5 MB 88.4 MB/s eta 0:00:01\n",
      "   ---------------------------------------- 15.5/15.5 MB 64.9 MB/s eta 0:00:00\n",
      "Downloading scipy-1.13.1-cp312-cp312-win_amd64.whl (45.9 MB)\n",
      "   ---------------------------------------- 0.0/45.9 MB ? eta -:--:--\n",
      "   ---------------- ----------------------- 18.9/45.9 MB 91.7 MB/s eta 0:00:01\n",
      "   --------------------------------- ------ 38.3/45.9 MB 90.1 MB/s eta 0:00:01\n",
      "   ---------------------------------------  45.9/45.9 MB 91.2 MB/s eta 0:00:01\n",
      "   ---------------------------------------- 45.9/45.9 MB 66.4 MB/s eta 0:00:00\n",
      "Downloading smart_open-7.1.0-py3-none-any.whl (61 kB)\n",
      "Downloading wrapt-1.17.2-cp312-cp312-win_amd64.whl (38 kB)\n",
      "Installing collected packages: wrapt, numpy, smart-open, scipy, gensim\n",
      "  Attempting uninstall: numpy\n",
      "    Found existing installation: numpy 2.2.5\n",
      "    Uninstalling numpy-2.2.5:\n",
      "      Successfully uninstalled numpy-2.2.5\n",
      "  Attempting uninstall: scipy\n",
      "    Found existing installation: scipy 1.15.2\n",
      "    Uninstalling scipy-1.15.2:\n",
      "      Successfully uninstalled scipy-1.15.2\n",
      "Successfully installed gensim-4.3.3 numpy-1.26.4 scipy-1.13.1 smart-open-7.1.0 wrapt-1.17.2\n",
      "Note: you may need to restart the kernel to use updated packages.\n"
     ]
    },
    {
     "name": "stderr",
     "output_type": "stream",
     "text": [
      "\n",
      "[notice] A new release of pip is available: 24.2 -> 25.1.1\n",
      "[notice] To update, run: python.exe -m pip install --upgrade pip\n"
     ]
    }
   ],
   "source": [
    "pip install gensim"
   ]
  },
  {
   "cell_type": "code",
   "execution_count": 1,
   "id": "155d7034",
   "metadata": {},
   "outputs": [],
   "source": [
    "import gensim"
   ]
  },
  {
   "cell_type": "code",
   "execution_count": 2,
   "id": "6340b05d",
   "metadata": {},
   "outputs": [],
   "source": [
    "from gensim.models import Word2Vec, KeyedVectors"
   ]
  },
  {
   "cell_type": "code",
   "execution_count": 6,
   "id": "2e5d3e87",
   "metadata": {},
   "outputs": [
    {
     "name": "stdout",
     "output_type": "stream",
     "text": [
      "[==================================================] 100.0% 1662.8/1662.8MB downloaded\n"
     ]
    }
   ],
   "source": [
    "import gensim.downloader as api\n",
    "wv = api.load('word2vec-google-news-300')"
   ]
  },
  {
   "cell_type": "code",
   "execution_count": 7,
   "id": "926df40d",
   "metadata": {},
   "outputs": [],
   "source": [
    "vec_king = wv['queen']"
   ]
  },
  {
   "cell_type": "code",
   "execution_count": 8,
   "id": "6bdcb8a8",
   "metadata": {},
   "outputs": [
    {
     "data": {
      "text/plain": [
       "array([ 0.00524902, -0.14355469, -0.06933594,  0.12353516,  0.13183594,\n",
       "       -0.08886719, -0.07128906, -0.21679688, -0.19726562,  0.05566406,\n",
       "       -0.07568359, -0.38085938,  0.10400391, -0.00081635,  0.1328125 ,\n",
       "        0.11279297,  0.07275391, -0.046875  ,  0.06591797,  0.09423828,\n",
       "        0.19042969,  0.13671875, -0.23632812, -0.11865234,  0.06542969,\n",
       "       -0.05322266, -0.30859375,  0.09179688,  0.18847656, -0.16699219,\n",
       "       -0.15625   , -0.13085938, -0.08251953,  0.21289062, -0.35546875,\n",
       "       -0.13183594,  0.09619141,  0.26367188, -0.09472656,  0.18359375,\n",
       "        0.10693359, -0.41601562,  0.26953125, -0.02770996,  0.17578125,\n",
       "       -0.11279297, -0.00411987,  0.14550781,  0.15625   ,  0.26757812,\n",
       "       -0.01794434,  0.09863281,  0.05297852, -0.03125   , -0.16308594,\n",
       "       -0.05810547, -0.34375   , -0.17285156,  0.11425781, -0.09033203,\n",
       "        0.13476562,  0.27929688, -0.04980469,  0.12988281,  0.17578125,\n",
       "       -0.22167969, -0.01190186,  0.140625  , -0.18164062,  0.11865234,\n",
       "        0.16113281,  0.21484375, -0.21191406,  0.12695312, -0.10009766,\n",
       "        0.13671875,  0.12695312,  0.01531982,  0.10449219, -0.02783203,\n",
       "       -0.06030273,  0.0222168 ,  0.18164062, -0.06738281,  0.04907227,\n",
       "        0.15429688, -0.25      ,  0.13964844,  0.29492188,  0.10644531,\n",
       "        0.3359375 , -0.22265625, -0.125     , -0.05297852,  0.19238281,\n",
       "        0.06835938,  0.06982422, -0.05200195,  0.14453125,  0.00448608,\n",
       "       -0.01013184, -0.1484375 ,  0.21777344, -0.1953125 , -0.390625  ,\n",
       "        0.07763672, -0.57421875, -0.07910156, -0.04052734, -0.1875    ,\n",
       "        0.25390625,  0.15722656,  0.125     ,  0.140625  ,  0.20117188,\n",
       "       -0.05859375,  0.16894531, -0.28125   ,  0.171875  ,  0.19140625,\n",
       "        0.12109375, -0.15039062, -0.00695801, -0.23730469,  0.13964844,\n",
       "       -0.00836182, -0.04711914,  0.14648438, -0.05688477,  0.10205078,\n",
       "        0.08447266,  0.21191406, -0.01831055,  0.50390625, -0.04858398,\n",
       "        0.22167969, -0.25585938,  0.03417969,  0.15820312, -0.03369141,\n",
       "        0.06738281, -0.25195312,  0.04614258, -0.07275391,  0.07958984,\n",
       "        0.04223633, -0.00128937,  0.20214844, -0.13085938, -0.06030273,\n",
       "        0.0378418 ,  0.13574219,  0.11181641, -0.24609375, -0.23925781,\n",
       "       -0.23632812, -0.04321289, -0.02905273,  0.23535156, -0.00390625,\n",
       "       -0.05029297,  0.18457031,  0.50390625, -0.00668335, -0.03466797,\n",
       "       -0.07568359,  0.06152344, -0.31445312, -0.03759766,  0.23632812,\n",
       "       -0.12792969,  0.15429688,  0.296875  ,  0.02709961, -0.17089844,\n",
       "       -0.22460938,  0.00241089,  0.10595703, -0.03320312,  0.0145874 ,\n",
       "       -0.21582031,  0.24707031, -0.07421875, -0.10205078,  0.16894531,\n",
       "       -0.05029297,  0.20800781, -0.03857422, -0.22265625,  0.27539062,\n",
       "       -0.05957031, -0.01757812,  0.01794434,  0.08886719,  0.12890625,\n",
       "        0.18261719,  0.14453125,  0.10400391, -0.1328125 , -0.32617188,\n",
       "        0.00386047, -0.11376953, -0.05053711, -0.13085938,  0.02209473,\n",
       "       -0.14648438,  0.10742188,  0.23046875,  0.15234375,  0.22753906,\n",
       "        0.04833984,  0.06787109, -0.06787109, -0.2578125 ,  0.11230469,\n",
       "        0.00363159, -0.12011719, -0.21289062,  0.11230469,  0.12158203,\n",
       "        0.06835938,  0.04907227,  0.2734375 , -0.00302124, -0.00378418,\n",
       "        0.00193787,  0.1875    , -0.29101562,  0.09033203,  0.26367188,\n",
       "       -0.25585938, -0.28710938, -0.40820312,  0.10546875,  0.39648438,\n",
       "       -0.07275391, -0.04321289, -0.06347656, -0.00060272, -0.11523438,\n",
       "        0.31445312, -0.22265625,  0.13574219, -0.01965332,  0.15332031,\n",
       "        0.00360107, -0.12011719,  0.06494141,  0.16210938, -0.16699219,\n",
       "        0.03271484, -0.00350952,  0.18847656,  0.19335938,  0.1328125 ,\n",
       "        0.06787109, -0.34179688, -0.08349609, -0.29492188, -0.02099609,\n",
       "        0.08886719,  0.32421875, -0.36914062, -0.0859375 , -0.04956055,\n",
       "        0.13183594,  0.04418945,  0.359375  ,  0.21484375,  0.265625  ,\n",
       "       -0.2734375 ,  0.23535156,  0.11425781,  0.08789062,  0.1875    ,\n",
       "       -0.33203125,  0.15136719, -0.03613281, -0.11914062,  0.27734375,\n",
       "        0.10839844, -0.07275391,  0.23242188,  0.00219727,  0.23828125,\n",
       "       -0.24902344, -0.12353516, -0.15917969, -0.00601196,  0.14550781,\n",
       "       -0.00460815, -0.22558594, -0.37890625, -0.37695312, -0.08251953,\n",
       "       -0.04125977,  0.16796875, -0.046875  ,  0.16308594,  0.15429688],\n",
       "      dtype=float32)"
      ]
     },
     "execution_count": 8,
     "metadata": {},
     "output_type": "execute_result"
    }
   ],
   "source": [
    "vec_king"
   ]
  },
  {
   "cell_type": "code",
   "execution_count": null,
   "id": "b129c8d4",
   "metadata": {},
   "outputs": [
    {
     "data": {
      "text/plain": [
       "[('boy', 0.8543272614479065),\n",
       " ('teenage_girl', 0.7927976846694946),\n",
       " ('woman', 0.7494639754295349),\n",
       " ('teenager', 0.7172499895095825),\n",
       " ('schoolgirl', 0.70759516954422),\n",
       " ('teenaged_girl', 0.6650916337966919),\n",
       " ('daughter', 0.6489863395690918),\n",
       " ('mother', 0.6478165984153748),\n",
       " ('toddler', 0.6473966836929321),\n",
       " ('girls', 0.6154743432998657)]"
      ]
     },
     "execution_count": 9,
     "metadata": {},
     "output_type": "execute_result"
    }
   ],
   "source": [
    "#tells the cosine similarity picks a set of words with high similarity\n",
    "wv.most_similar('girl')"
   ]
  },
  {
   "cell_type": "code",
   "execution_count": 10,
   "id": "2b539d78",
   "metadata": {},
   "outputs": [
    {
     "data": {
      "text/plain": [
       "0.13295138"
      ]
     },
     "execution_count": 10,
     "metadata": {},
     "output_type": "execute_result"
    }
   ],
   "source": [
    "wv.similarity('rose','flower')"
   ]
  },
  {
   "cell_type": "markdown",
   "id": "3654ef65",
   "metadata": {},
   "source": [
    "CBOW and SKIPGRAM help us identify semantic meaning between words which BOW TFIDF lack "
   ]
  },
  {
   "cell_type": "markdown",
   "id": "eab5fd24",
   "metadata": {},
   "source": []
  }
 ],
 "metadata": {
  "kernelspec": {
   "display_name": ".venv",
   "language": "python",
   "name": "python3"
  },
  "language_info": {
   "codemirror_mode": {
    "name": "ipython",
    "version": 3
   },
   "file_extension": ".py",
   "mimetype": "text/x-python",
   "name": "python",
   "nbconvert_exporter": "python",
   "pygments_lexer": "ipython3",
   "version": "3.12.6"
  }
 },
 "nbformat": 4,
 "nbformat_minor": 5
}
