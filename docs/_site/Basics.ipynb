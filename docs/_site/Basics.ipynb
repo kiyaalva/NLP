{
 "cells": [
  {
   "cell_type": "code",
   "execution_count": 4,
   "id": "22ddcbde",
   "metadata": {},
   "outputs": [
    {
     "name": "stdout",
     "output_type": "stream",
     "text": [
      "Requirement already satisfied: nltk in k:\\nlp\\.venv\\lib\\site-packages (3.9.1)\n",
      "Requirement already satisfied: click in k:\\nlp\\.venv\\lib\\site-packages (from nltk) (8.1.8)\n",
      "Requirement already satisfied: joblib in k:\\nlp\\.venv\\lib\\site-packages (from nltk) (1.5.0)\n",
      "Requirement already satisfied: regex>=2021.8.3 in k:\\nlp\\.venv\\lib\\site-packages (from nltk) (2024.11.6)\n",
      "Requirement already satisfied: tqdm in k:\\nlp\\.venv\\lib\\site-packages (from nltk) (4.67.1)\n",
      "Requirement already satisfied: colorama in k:\\nlp\\.venv\\lib\\site-packages (from click->nltk) (0.4.6)\n",
      "Note: you may need to restart the kernel to use updated packages.\n"
     ]
    },
    {
     "name": "stderr",
     "output_type": "stream",
     "text": [
      "\n",
      "[notice] A new release of pip is available: 24.2 -> 25.1\n",
      "[notice] To update, run: k:\\NLP\\.venv\\Scripts\\python.exe -m pip install --upgrade pip\n"
     ]
    }
   ],
   "source": [
    "pip install nltk\n"
   ]
  },
  {
   "cell_type": "code",
   "execution_count": 5,
   "id": "387d21f4",
   "metadata": {},
   "outputs": [],
   "source": [
    "import nltk\n",
    "from nltk.stem import PorterStemmer\n",
    "from nltk.corpus import stopwords"
   ]
  },
  {
   "cell_type": "code",
   "execution_count": 6,
   "id": "52c81805",
   "metadata": {},
   "outputs": [],
   "source": [
    "\n",
    "corpus = '''These are the Terms and Conditions governing the use of this Service and the agreement \n",
    "that operates between You and the Company. These Terms and Conditions set out the rights and obligations of \n",
    "all users regarding the use of the Service. Your access to and use of the Service is conditioned on Your \n",
    "acceptance of and compliance with these Terms and Conditions. These Terms and Conditions apply to all visitors, \n",
    "users and others who access or use the Service. By accessing or using the Service You agree to be bound by these \n",
    "Terms and Conditions. If You disagree with any part of these Terms and Conditions then You may not access the Service. \n",
    "You represent that you are over the age of 18. The Company does not permit those under 18 to use the Service. \n",
    "Your access to and use of the Service is also conditioned on Your acceptance of and compliance with the Privacy Policy \n",
    "of the Company. Our Privacy Policy describes Our policies and procedures on the collection, use and disclosure of \n",
    "Your personal information when You use the Application or the Website and tells You about Your privacy rights and \n",
    "how the law protects You. Please read Our Privacy Policy carefully before using Our Service. Intellectual Property \n",
    "The Service and its original content (excluding Content provided by You or other users), features and functionality \n",
    "are and will remain the exclusive property of the Company and its licensors. The Service is protected by copyright, \n",
    "trademark, and other laws of both the Country and foreign countries. Our trademarks and trade dress may not be \n",
    "used in connection with any product or service without the prior written consent of the Company.'''"
   ]
  },
  {
   "cell_type": "code",
   "execution_count": 7,
   "id": "d93de8ba",
   "metadata": {},
   "outputs": [
    {
     "name": "stderr",
     "output_type": "stream",
     "text": [
      "[nltk_data] Downloading package punkt_tab to k:\\NLP\\nltk_data...\n",
      "[nltk_data]   Package punkt_tab is already up-to-date!\n",
      "[nltk_data] Downloading package wordnet to k:\\NLP\\nltk_data...\n",
      "[nltk_data]   Package wordnet is already up-to-date!\n",
      "[nltk_data] Downloading package stopwords to k:\\NLP\\nltk_data...\n",
      "[nltk_data]   Package stopwords is already up-to-date!\n"
     ]
    }
   ],
   "source": [
    "#tokenize --> para to sentense \n",
    "import nltk\n",
    "import os\n",
    "\n",
    "# Optional: clear existing nltk_data (if corrupted)\n",
    "nltk.data.path.clear()\n",
    "\n",
    "# Force path to a clean directory\n",
    "nltk_data_path = os.path.abspath('nltk_data')\n",
    "nltk.download('punkt_tab', download_dir=nltk_data_path)\n",
    "nltk.download('wordnet', download_dir=nltk_data_path)\n",
    "nltk.download('stopwords', download_dir=nltk_data_path)\n",
    "nltk.data.path.append(nltk_data_path)"
   ]
  },
  {
   "cell_type": "code",
   "execution_count": 9,
   "id": "de8b653b",
   "metadata": {},
   "outputs": [],
   "source": [
    "documents = nltk.sent_tokenize(corpus, language='english')"
   ]
  },
  {
   "cell_type": "code",
   "execution_count": 10,
   "id": "b0bc9fe4",
   "metadata": {},
   "outputs": [],
   "source": [
    "import os\n",
    "import nltk\n",
    "nltk.data.path.append(os.path.abspath('./nltk_data'))"
   ]
  },
  {
   "cell_type": "code",
   "execution_count": 11,
   "id": "f7fb1085",
   "metadata": {},
   "outputs": [
    {
     "data": {
      "text/plain": [
       "['These are the Terms and Conditions governing the use of this Service and the agreement \\nthat operates between You and the Company.',\n",
       " 'These Terms and Conditions set out the rights and obligations of \\nall users regarding the use of the Service.',\n",
       " 'Your access to and use of the Service is conditioned on Your \\nacceptance of and compliance with these Terms and Conditions.',\n",
       " 'These Terms and Conditions apply to all visitors, \\nusers and others who access or use the Service.',\n",
       " 'By accessing or using the Service You agree to be bound by these \\nTerms and Conditions.',\n",
       " 'If You disagree with any part of these Terms and Conditions then You may not access the Service.',\n",
       " 'You represent that you are over the age of 18.',\n",
       " 'The Company does not permit those under 18 to use the Service.',\n",
       " 'Your access to and use of the Service is also conditioned on Your acceptance of and compliance with the Privacy Policy \\nof the Company.',\n",
       " 'Our Privacy Policy describes Our policies and procedures on the collection, use and disclosure of \\nYour personal information when You use the Application or the Website and tells You about Your privacy rights and \\nhow the law protects You.',\n",
       " 'Please read Our Privacy Policy carefully before using Our Service.',\n",
       " 'Intellectual Property \\nThe Service and its original content (excluding Content provided by You or other users), features and functionality \\nare and will remain the exclusive property of the Company and its licensors.',\n",
       " 'The Service is protected by copyright, \\ntrademark, and other laws of both the Country and foreign countries.',\n",
       " 'Our trademarks and trade dress may not be \\nused in connection with any product or service without the prior written consent of the Company.']"
      ]
     },
     "execution_count": 11,
     "metadata": {},
     "output_type": "execute_result"
    }
   ],
   "source": [
    "documents"
   ]
  },
  {
   "cell_type": "code",
   "execution_count": 12,
   "id": "1a33d0c7",
   "metadata": {},
   "outputs": [],
   "source": [
    "#stemming - reducing words to its base root word\n",
    "stemmer = PorterStemmer()"
   ]
  },
  {
   "cell_type": "code",
   "execution_count": 13,
   "id": "b2eb2392",
   "metadata": {},
   "outputs": [],
   "source": [
    "#Lemmetization -- more accuracy breaking of sentences into base root words\n",
    "from nltk.stem import WordNetLemmatizer\n",
    "\n",
    "lemme = WordNetLemmatizer()"
   ]
  },
  {
   "cell_type": "code",
   "execution_count": 14,
   "id": "ae992ef5",
   "metadata": {},
   "outputs": [
    {
     "data": {
      "text/plain": [
       "'goe'"
      ]
     },
     "execution_count": 14,
     "metadata": {},
     "output_type": "execute_result"
    }
   ],
   "source": [
    "stemmer.stem('goes')"
   ]
  },
  {
   "cell_type": "code",
   "execution_count": 15,
   "id": "c680e715",
   "metadata": {},
   "outputs": [
    {
     "data": {
      "text/plain": [
       "'go'"
      ]
     },
     "execution_count": 15,
     "metadata": {},
     "output_type": "execute_result"
    }
   ],
   "source": [
    "lemme.lemmatize('goes')"
   ]
  },
  {
   "cell_type": "code",
   "execution_count": 16,
   "id": "12e461a3",
   "metadata": {},
   "outputs": [],
   "source": [
    "import re\n",
    "cleaned_corpus =[]\n",
    "for i in range(len(documents)):\n",
    "    review = re.sub('[^a-zA-Z]',' ', documents[i])\n",
    "    review = review.lower()\n",
    "    cleaned_corpus.append(review)"
   ]
  },
  {
   "cell_type": "code",
   "execution_count": 17,
   "id": "a1a759a2",
   "metadata": {},
   "outputs": [
    {
     "data": {
      "text/plain": [
       "['these are the terms and conditions governing the use of this service and the agreement  that operates between you and the company ',\n",
       " 'these terms and conditions set out the rights and obligations of  all users regarding the use of the service ',\n",
       " 'your access to and use of the service is conditioned on your  acceptance of and compliance with these terms and conditions ',\n",
       " 'these terms and conditions apply to all visitors   users and others who access or use the service ',\n",
       " 'by accessing or using the service you agree to be bound by these  terms and conditions ',\n",
       " 'if you disagree with any part of these terms and conditions then you may not access the service ',\n",
       " 'you represent that you are over the age of    ',\n",
       " 'the company does not permit those under    to use the service ',\n",
       " 'your access to and use of the service is also conditioned on your acceptance of and compliance with the privacy policy  of the company ',\n",
       " 'our privacy policy describes our policies and procedures on the collection  use and disclosure of  your personal information when you use the application or the website and tells you about your privacy rights and  how the law protects you ',\n",
       " 'please read our privacy policy carefully before using our service ',\n",
       " 'intellectual property  the service and its original content  excluding content provided by you or other users   features and functionality  are and will remain the exclusive property of the company and its licensors ',\n",
       " 'the service is protected by copyright   trademark  and other laws of both the country and foreign countries ',\n",
       " 'our trademarks and trade dress may not be  used in connection with any product or service without the prior written consent of the company ']"
      ]
     },
     "execution_count": 17,
     "metadata": {},
     "output_type": "execute_result"
    }
   ],
   "source": [
    "cleaned_corpus"
   ]
  },
  {
   "cell_type": "code",
   "execution_count": 18,
   "id": "699d3ec4",
   "metadata": {},
   "outputs": [
    {
     "name": "stdout",
     "output_type": "stream",
     "text": [
      "term\n",
      "condit\n",
      "govern\n",
      "use\n",
      "servic\n",
      "agreement\n",
      "oper\n",
      "compani\n",
      "term\n",
      "condit\n",
      "set\n",
      "right\n",
      "oblig\n",
      "user\n",
      "regard\n",
      "use\n",
      "servic\n",
      "access\n",
      "use\n",
      "servic\n",
      "condit\n",
      "accept\n",
      "complianc\n",
      "term\n",
      "condit\n",
      "term\n",
      "condit\n",
      "appli\n",
      "visitor\n",
      "user\n",
      "other\n",
      "access\n",
      "use\n",
      "servic\n",
      "access\n",
      "use\n",
      "servic\n",
      "agre\n",
      "bound\n",
      "term\n",
      "condit\n",
      "disagre\n",
      "part\n",
      "term\n",
      "condit\n",
      "may\n",
      "access\n",
      "servic\n",
      "repres\n",
      "age\n",
      "compani\n",
      "permit\n",
      "use\n",
      "servic\n",
      "access\n",
      "use\n",
      "servic\n",
      "also\n",
      "condit\n",
      "accept\n",
      "complianc\n",
      "privaci\n",
      "polici\n",
      "compani\n",
      "privaci\n",
      "polici\n",
      "describ\n",
      "polici\n",
      "procedur\n",
      "collect\n",
      "use\n",
      "disclosur\n",
      "person\n",
      "inform\n",
      "use\n",
      "applic\n",
      "websit\n",
      "tell\n",
      "privaci\n",
      "right\n",
      "law\n",
      "protect\n",
      "pleas\n",
      "read\n",
      "privaci\n",
      "polici\n",
      "care\n",
      "use\n",
      "servic\n",
      "intellectu\n",
      "properti\n",
      "servic\n",
      "origin\n",
      "content\n",
      "exclud\n",
      "content\n",
      "provid\n",
      "user\n",
      "featur\n",
      "function\n",
      "remain\n",
      "exclus\n",
      "properti\n",
      "compani\n",
      "licensor\n",
      "servic\n",
      "protect\n",
      "copyright\n",
      "trademark\n",
      "law\n",
      "countri\n",
      "foreign\n",
      "countri\n",
      "trademark\n",
      "trade\n",
      "dress\n",
      "may\n",
      "use\n",
      "connect\n",
      "product\n",
      "servic\n",
      "without\n",
      "prior\n",
      "written\n",
      "consent\n",
      "compani\n"
     ]
    }
   ],
   "source": [
    "for i in cleaned_corpus:\n",
    "    words = nltk.word_tokenize(i)\n",
    "    for word in words:\n",
    "        if word not in set(stopwords.words('english')):\n",
    "            print(stemmer.stem(word))"
   ]
  },
  {
   "cell_type": "code",
   "execution_count": 19,
   "id": "634e23ab",
   "metadata": {},
   "outputs": [
    {
     "name": "stdout",
     "output_type": "stream",
     "text": [
      "term\n",
      "condition\n",
      "governing\n",
      "use\n",
      "service\n",
      "agreement\n",
      "operates\n",
      "company\n",
      "term\n",
      "condition\n",
      "set\n",
      "right\n",
      "obligation\n",
      "user\n",
      "regarding\n",
      "use\n",
      "service\n",
      "access\n",
      "use\n",
      "service\n",
      "conditioned\n",
      "acceptance\n",
      "compliance\n",
      "term\n",
      "condition\n",
      "term\n",
      "condition\n",
      "apply\n",
      "visitor\n",
      "user\n",
      "others\n",
      "access\n",
      "use\n",
      "service\n",
      "accessing\n",
      "using\n",
      "service\n",
      "agree\n",
      "bound\n",
      "term\n",
      "condition\n",
      "disagree\n",
      "part\n",
      "term\n",
      "condition\n",
      "may\n",
      "access\n",
      "service\n",
      "represent\n",
      "age\n",
      "company\n",
      "permit\n",
      "use\n",
      "service\n",
      "access\n",
      "use\n",
      "service\n",
      "also\n",
      "conditioned\n",
      "acceptance\n",
      "compliance\n",
      "privacy\n",
      "policy\n",
      "company\n",
      "privacy\n",
      "policy\n",
      "describes\n",
      "policy\n",
      "procedure\n",
      "collection\n",
      "use\n",
      "disclosure\n",
      "personal\n",
      "information\n",
      "use\n",
      "application\n",
      "website\n",
      "tell\n",
      "privacy\n",
      "right\n",
      "law\n",
      "protects\n",
      "please\n",
      "read\n",
      "privacy\n",
      "policy\n",
      "carefully\n",
      "using\n",
      "service\n",
      "intellectual\n",
      "property\n",
      "service\n",
      "original\n",
      "content\n",
      "excluding\n",
      "content\n",
      "provided\n",
      "user\n",
      "feature\n",
      "functionality\n",
      "remain\n",
      "exclusive\n",
      "property\n",
      "company\n",
      "licensors\n",
      "service\n",
      "protected\n",
      "copyright\n",
      "trademark\n",
      "law\n",
      "country\n",
      "foreign\n",
      "country\n",
      "trademark\n",
      "trade\n",
      "dress\n",
      "may\n",
      "used\n",
      "connection\n",
      "product\n",
      "service\n",
      "without\n",
      "prior\n",
      "written\n",
      "consent\n",
      "company\n"
     ]
    }
   ],
   "source": [
    "for i in cleaned_corpus:\n",
    "    words = nltk.word_tokenize(i)\n",
    "    for word in words:\n",
    "        if word not in set(stopwords.words('english')):\n",
    "            print(lemme.lemmatize(word))"
   ]
  },
  {
   "cell_type": "code",
   "execution_count": 20,
   "id": "336c98a0",
   "metadata": {},
   "outputs": [
    {
     "name": "stdout",
     "output_type": "stream",
     "text": [
      "Collecting scikit-learn\n",
      "  Downloading scikit_learn-1.6.1-cp312-cp312-win_amd64.whl.metadata (15 kB)\n",
      "Collecting numpy>=1.19.5 (from scikit-learn)\n",
      "  Downloading numpy-2.2.5-cp312-cp312-win_amd64.whl.metadata (60 kB)\n",
      "Collecting scipy>=1.6.0 (from scikit-learn)\n",
      "  Downloading scipy-1.15.2-cp312-cp312-win_amd64.whl.metadata (60 kB)\n",
      "Requirement already satisfied: joblib>=1.2.0 in k:\\nlp\\.venv\\lib\\site-packages (from scikit-learn) (1.5.0)\n",
      "Collecting threadpoolctl>=3.1.0 (from scikit-learn)\n",
      "  Using cached threadpoolctl-3.6.0-py3-none-any.whl.metadata (13 kB)\n",
      "Downloading scikit_learn-1.6.1-cp312-cp312-win_amd64.whl (11.1 MB)\n",
      "   ---------------------------------------- 0.0/11.1 MB ? eta -:--:--\n",
      "   ----------------------------- ---------- 8.1/11.1 MB 41.8 MB/s eta 0:00:01\n",
      "   ---------------------------------------- 11.1/11.1 MB 38.5 MB/s eta 0:00:00\n",
      "Downloading numpy-2.2.5-cp312-cp312-win_amd64.whl (12.6 MB)\n",
      "   ---------------------------------------- 0.0/12.6 MB ? eta -:--:--\n",
      "   ---------------------------------------- 12.6/12.6 MB 65.9 MB/s eta 0:00:00\n",
      "Downloading scipy-1.15.2-cp312-cp312-win_amd64.whl (40.9 MB)\n",
      "   ---------------------------------------- 0.0/40.9 MB ? eta -:--:--\n",
      "   --------- ------------------------------ 9.7/40.9 MB 86.6 MB/s eta 0:00:01\n",
      "   ------------------------- -------------- 25.7/40.9 MB 60.3 MB/s eta 0:00:01\n",
      "   ------------------------------------- -- 38.8/40.9 MB 61.7 MB/s eta 0:00:01\n",
      "   ---------------------------------------- 40.9/40.9 MB 48.2 MB/s eta 0:00:00\n",
      "Using cached threadpoolctl-3.6.0-py3-none-any.whl (18 kB)\n",
      "Installing collected packages: threadpoolctl, numpy, scipy, scikit-learn\n",
      "Successfully installed numpy-2.2.5 scikit-learn-1.6.1 scipy-1.15.2 threadpoolctl-3.6.0\n",
      "Note: you may need to restart the kernel to use updated packages.\n"
     ]
    },
    {
     "name": "stderr",
     "output_type": "stream",
     "text": [
      "\n",
      "[notice] A new release of pip is available: 24.2 -> 25.1\n",
      "[notice] To update, run: k:\\NLP\\.venv\\Scripts\\python.exe -m pip install --upgrade pip\n"
     ]
    }
   ],
   "source": [
    "pip install scikit-learn"
   ]
  },
  {
   "cell_type": "code",
   "execution_count": 24,
   "id": "4e45bf65",
   "metadata": {},
   "outputs": [],
   "source": [
    "#stopwrod lemmetize \n",
    "for i in range(len(documents)):\n",
    "    review = re.sub('[^A-Za-z]',' ', documents[i])\n",
    "    review = review.lower()\n",
    "    review = review.split()\n",
    "    review = [lemme.lemmatize(word) for word in review if word not in set(stopwords.words('english'))]\n",
    "    review = ' '.join(review)\n",
    "    cleaned_corpus.append(review)"
   ]
  },
  {
   "cell_type": "code",
   "execution_count": 25,
   "id": "6cea066a",
   "metadata": {},
   "outputs": [],
   "source": [
    "from sklearn.feature_extraction.text import CountVectorizer\n",
    "cv = CountVectorizer()"
   ]
  },
  {
   "cell_type": "code",
   "execution_count": 26,
   "id": "3fa804f6",
   "metadata": {},
   "outputs": [],
   "source": [
    "x = cv.fit_transform(cleaned_corpus)"
   ]
  },
  {
   "cell_type": "code",
   "execution_count": 27,
   "id": "e66d44e4",
   "metadata": {},
   "outputs": [
    {
     "data": {
      "text/plain": [
       "{'these': 99,\n",
       " 'are': 13,\n",
       " 'the': 97,\n",
       " 'terms': 95,\n",
       " 'and': 9,\n",
       " 'conditions': 26,\n",
       " 'governing': 44,\n",
       " 'use': 107,\n",
       " 'of': 59,\n",
       " 'this': 100,\n",
       " 'service': 90,\n",
       " 'agreement': 6,\n",
       " 'that': 96,\n",
       " 'operates': 61,\n",
       " 'between': 16,\n",
       " 'you': 121,\n",
       " 'company': 22,\n",
       " 'set': 91,\n",
       " 'out': 67,\n",
       " 'rights': 89,\n",
       " 'obligations': 58,\n",
       " 'all': 7,\n",
       " 'users': 110,\n",
       " 'regarding': 85,\n",
       " 'your': 122,\n",
       " 'access': 2,\n",
       " 'to': 102,\n",
       " 'is': 50,\n",
       " 'conditioned': 25,\n",
       " 'on': 60,\n",
       " 'acceptance': 1,\n",
       " 'compliance': 23,\n",
       " 'with': 118,\n",
       " 'apply': 12,\n",
       " 'visitors': 113,\n",
       " 'others': 65,\n",
       " 'who': 116,\n",
       " 'or': 62,\n",
       " 'by': 19,\n",
       " 'accessing': 3,\n",
       " 'using': 111,\n",
       " 'agree': 5,\n",
       " 'be': 14,\n",
       " 'bound': 18,\n",
       " 'if': 46,\n",
       " 'disagree': 34,\n",
       " 'any': 10,\n",
       " 'part': 69,\n",
       " 'then': 98,\n",
       " 'may': 55,\n",
       " 'not': 56,\n",
       " 'represent': 87,\n",
       " 'over': 68,\n",
       " 'age': 4,\n",
       " 'does': 36,\n",
       " 'permit': 70,\n",
       " 'those': 101,\n",
       " 'under': 106,\n",
       " 'also': 8,\n",
       " 'privacy': 76,\n",
       " 'policy': 74,\n",
       " 'our': 66,\n",
       " 'describes': 33,\n",
       " 'policies': 73,\n",
       " 'procedures': 78,\n",
       " 'collection': 21,\n",
       " 'disclosure': 35,\n",
       " 'personal': 71,\n",
       " 'information': 48,\n",
       " 'when': 115,\n",
       " 'application': 11,\n",
       " 'website': 114,\n",
       " 'tells': 93,\n",
       " 'about': 0,\n",
       " 'how': 45,\n",
       " 'law': 52,\n",
       " 'protects': 82,\n",
       " 'please': 72,\n",
       " 'read': 84,\n",
       " 'carefully': 20,\n",
       " 'before': 15,\n",
       " 'intellectual': 49,\n",
       " 'property': 80,\n",
       " 'its': 51,\n",
       " 'original': 63,\n",
       " 'content': 29,\n",
       " 'excluding': 38,\n",
       " 'provided': 83,\n",
       " 'other': 64,\n",
       " 'features': 41,\n",
       " 'functionality': 43,\n",
       " 'will': 117,\n",
       " 'remain': 86,\n",
       " 'exclusive': 39,\n",
       " 'licensors': 54,\n",
       " 'protected': 81,\n",
       " 'copyright': 30,\n",
       " 'trademark': 104,\n",
       " 'laws': 53,\n",
       " 'both': 17,\n",
       " 'country': 32,\n",
       " 'foreign': 42,\n",
       " 'countries': 31,\n",
       " 'trademarks': 105,\n",
       " 'trade': 103,\n",
       " 'dress': 37,\n",
       " 'used': 108,\n",
       " 'in': 47,\n",
       " 'connection': 27,\n",
       " 'product': 79,\n",
       " 'without': 119,\n",
       " 'prior': 75,\n",
       " 'written': 120,\n",
       " 'consent': 28,\n",
       " 'term': 94,\n",
       " 'condition': 24,\n",
       " 'right': 88,\n",
       " 'obligation': 57,\n",
       " 'user': 109,\n",
       " 'visitor': 112,\n",
       " 'procedure': 77,\n",
       " 'tell': 92,\n",
       " 'feature': 40}"
      ]
     },
     "execution_count": 27,
     "metadata": {},
     "output_type": "execute_result"
    }
   ],
   "source": [
    "cv.vocabulary_"
   ]
  },
  {
   "cell_type": "code",
   "execution_count": null,
   "id": "5e32ffc0",
   "metadata": {},
   "outputs": [],
   "source": [
    "\n",
    "\n",
    "'''Notes : REMOVE STOPWORDS\n",
    "TURN PARAS INTO SENTENCE \n",
    "GET FREQUENCY OF VOCABS'''"
   ]
  },
  {
   "cell_type": "code",
   "execution_count": null,
   "id": "5b20c991",
   "metadata": {},
   "outputs": [],
   "source": [
    "'''TFIDF - term freq inverse document freq\n",
    "tf = no of repetitions of a word in a sentence/ total words in a sentence\n",
    "idf = log(no of sentence/ no of sentence with that specific word) \n",
    "\n",
    "tf*idf\n",
    "\n",
    "'''"
   ]
  }
 ],
 "metadata": {
  "kernelspec": {
   "display_name": ".venv",
   "language": "python",
   "name": "python3"
  },
  "language_info": {
   "codemirror_mode": {
    "name": "ipython",
    "version": 3
   },
   "file_extension": ".py",
   "mimetype": "text/x-python",
   "name": "python",
   "nbconvert_exporter": "python",
   "pygments_lexer": "ipython3",
   "version": "3.12.6"
  }
 },
 "nbformat": 4,
 "nbformat_minor": 5
}
