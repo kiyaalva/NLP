{
 "cells": [
  {
   "cell_type": "code",
   "execution_count": 7,
   "id": "7abeaa5c",
   "metadata": {},
   "outputs": [],
   "source": [
    "import pandas as pd\n",
    "\n",
    "dataset = pd.read_csv('data/SMS_test.csv',encoding = 'ISO-8859-1')"
   ]
  },
  {
   "cell_type": "code",
   "execution_count": 8,
   "id": "3957073b",
   "metadata": {},
   "outputs": [
    {
     "data": {
      "text/html": [
       "<div>\n",
       "<style scoped>\n",
       "    .dataframe tbody tr th:only-of-type {\n",
       "        vertical-align: middle;\n",
       "    }\n",
       "\n",
       "    .dataframe tbody tr th {\n",
       "        vertical-align: top;\n",
       "    }\n",
       "\n",
       "    .dataframe thead th {\n",
       "        text-align: right;\n",
       "    }\n",
       "</style>\n",
       "<table border=\"1\" class=\"dataframe\">\n",
       "  <thead>\n",
       "    <tr style=\"text-align: right;\">\n",
       "      <th></th>\n",
       "      <th>S. No.</th>\n",
       "      <th>Message_body</th>\n",
       "      <th>Label</th>\n",
       "    </tr>\n",
       "  </thead>\n",
       "  <tbody>\n",
       "    <tr>\n",
       "      <th>0</th>\n",
       "      <td>1</td>\n",
       "      <td>UpgrdCentre Orange customer, you may now claim...</td>\n",
       "      <td>Spam</td>\n",
       "    </tr>\n",
       "    <tr>\n",
       "      <th>1</th>\n",
       "      <td>2</td>\n",
       "      <td>Loan for any purpose £500 - £75,000. Homeowner...</td>\n",
       "      <td>Spam</td>\n",
       "    </tr>\n",
       "    <tr>\n",
       "      <th>2</th>\n",
       "      <td>3</td>\n",
       "      <td>Congrats! Nokia 3650 video camera phone is you...</td>\n",
       "      <td>Spam</td>\n",
       "    </tr>\n",
       "    <tr>\n",
       "      <th>3</th>\n",
       "      <td>4</td>\n",
       "      <td>URGENT! Your Mobile number has been awarded wi...</td>\n",
       "      <td>Spam</td>\n",
       "    </tr>\n",
       "    <tr>\n",
       "      <th>4</th>\n",
       "      <td>5</td>\n",
       "      <td>Someone has contacted our dating service and e...</td>\n",
       "      <td>Spam</td>\n",
       "    </tr>\n",
       "  </tbody>\n",
       "</table>\n",
       "</div>"
      ],
      "text/plain": [
       "   S. No.                                       Message_body Label\n",
       "0       1  UpgrdCentre Orange customer, you may now claim...  Spam\n",
       "1       2  Loan for any purpose £500 - £75,000. Homeowner...  Spam\n",
       "2       3  Congrats! Nokia 3650 video camera phone is you...  Spam\n",
       "3       4  URGENT! Your Mobile number has been awarded wi...  Spam\n",
       "4       5  Someone has contacted our dating service and e...  Spam"
      ]
     },
     "execution_count": 8,
     "metadata": {},
     "output_type": "execute_result"
    }
   ],
   "source": [
    "dataset.head()"
   ]
  },
  {
   "cell_type": "code",
   "execution_count": 9,
   "id": "8ed8996e",
   "metadata": {},
   "outputs": [
    {
     "data": {
      "text/plain": [
       "(125, 3)"
      ]
     },
     "execution_count": 9,
     "metadata": {},
     "output_type": "execute_result"
    }
   ],
   "source": [
    "dataset.shape"
   ]
  },
  {
   "cell_type": "code",
   "execution_count": 10,
   "id": "a2ad7826",
   "metadata": {},
   "outputs": [
    {
     "name": "stderr",
     "output_type": "stream",
     "text": [
      "[nltk_data] Downloading package stopwords to\n",
      "[nltk_data]     C:\\Users\\kiran/nltk_data...\n",
      "[nltk_data]   Package stopwords is already up-to-date!\n"
     ]
    },
    {
     "data": {
      "text/plain": [
       "True"
      ]
     },
     "execution_count": 10,
     "metadata": {},
     "output_type": "execute_result"
    }
   ],
   "source": [
    "import re\n",
    "import nltk\n",
    "nltk.download('stopwords')"
   ]
  },
  {
   "cell_type": "markdown",
   "id": "3c6ae192",
   "metadata": {},
   "source": [
    "PreProcessing "
   ]
  },
  {
   "cell_type": "code",
   "execution_count": 12,
   "id": "44bf15f7",
   "metadata": {},
   "outputs": [],
   "source": [
    "from nltk.corpus import stopwords\n",
    "from nltk.stem.porter import PorterStemmer"
   ]
  },
  {
   "cell_type": "code",
   "execution_count": 13,
   "id": "649257c3",
   "metadata": {},
   "outputs": [],
   "source": [
    "ps = PorterStemmer()"
   ]
  },
  {
   "cell_type": "code",
   "execution_count": 19,
   "id": "bd61ac49",
   "metadata": {},
   "outputs": [],
   "source": [
    "corpus = []\n",
    "for i in range(0,len(dataset)):\n",
    "    review = re.sub('[^A-Za-z0-9]', ' ',dataset['Message_body'][i])\n",
    "    review = review.lower().split()\n",
    "    review = [ps.stem(word) for word in review if word not in stopwords.words('english')]\n",
    "    review = ' '.join(review)\n",
    "    corpus.append(review)\n"
   ]
  },
  {
   "cell_type": "code",
   "execution_count": 20,
   "id": "82656908",
   "metadata": {},
   "outputs": [
    {
     "data": {
      "text/plain": [
       "['upgrdcentr orang custom may claim free camera phone upgrad loyalti call 0207 153 9153 offer end 26th juli c appli opt avail',\n",
       " 'loan purpos 500 75 000 homeown tenant welcom previous refus still help call free 0800 1956669 text back help',\n",
       " 'congrat nokia 3650 video camera phone call 09066382422 call cost 150ppm ave call 3min vari mobil 16 close 300603 post bcm4284 ldn wc1n3xx',\n",
       " 'urgent mobil number award 2000 prize guarante call 09058094455 land line claim 3030 valid 12hr',\n",
       " 'someon contact date servic enter phone fanci find call landlin 09111032124 pobox12n146tf150p',\n",
       " 'send logo 2 ur lover 2 name join heart txt love name1 name2 mobno eg love adam eve 07123456789 87077 yahoo pobox36504w45wq txtno 4 ad 150p',\n",
       " 'free entri 250 weekli competit text word win 80086 18 c www txttowin co uk',\n",
       " '100 date servic cal l 09064012103 box334sk38ch',\n",
       " 'free rington text first 87131 poli text get 87131 true tone help 0845 2814032 16 1st free tone 3x 150pw e nd txt stop',\n",
       " '4mth half price orang line rental latest camera phone 4 free phone 11mth call mobilesdirect free 08000938767 updat or2stoptxt',\n",
       " 'doubl min txt 4 6month free bluetooth orang avail soni nokia motorola phone call mobileupd8 08000839402 call2optout n9dx',\n",
       " 'thank rington order refer t91 charg gbp 4 per week unsubscrib anytim call custom servic 09057039994',\n",
       " 'discount code rp176781 stop messag repli stop www regalportfolio co uk custom servic 08717205546',\n",
       " 'updat xma offer latest motorola sonyericsson nokia free bluetooth doubl min 1000 txt orang call mobileupd8 08000839402 call2optout f4q',\n",
       " 'ur cash balanc current 500 pound maxim ur cash send cash 86688 150p msg cc 08708800282 hg suite342 2land row w1j6hl',\n",
       " 'congratul ur award 500 cd voucher 125gift guarante free entri 2 100 wkli draw txt music 87066 tnc www ldew com1win150ppmx3age16',\n",
       " 'fanci shag interest sextextuk com txt xxuk suzi 69876 txt cost 1 50 per msg tnc websit x',\n",
       " 'valentin day special win 1000 quiz take partner trip lifetim send go 83600 150p msg rcvd custcar 08718720201',\n",
       " 'call germani 1 penc per minut call fix line via access number 0844 861 85 85 prepay direct access',\n",
       " 'decemb mobil 11mth entitl updat latest colour camera mobil free call mobil updat co free 08002986906',\n",
       " 'think ur smart win 200 week weekli quiz text play 85222 cs winnersclub po box 84 m26 3uz 16 gbp1 50 week',\n",
       " 'themob check newest select content game tone gossip babe sport keep mobil fit funki text wap 82468',\n",
       " 'sm ac blind date 4u rodds1 21 aberdeen unit kingdom check http img sm ac w icmb3cktz8r7 4 blind date send hide',\n",
       " 'mobil custom may claim free camera phone upgrad pay go sim card loyalti call 0845 021 3680 offer end 28thfeb c appli',\n",
       " 'hmv bonu special 500 pound genuin hmv voucher answer 4 easi question play send hmv 86688 info www 100percent real com',\n",
       " 'rington club get uk singl chart mobil week choos top qualiti rington messag free charg',\n",
       " 'ur rington servic chang 25 free credit go club4mobil com choos content stop txt club stop 87070 150p wk club4 po box1146 mk45 2wt',\n",
       " 'hey realli horni want chat see nake text hot 69698 text charg 150pm unsubscrib text stop 69698',\n",
       " 'tri contact repli offer video handset 750 anytim network min unlimit text camcord repli call 08000930705',\n",
       " 'congratul ur award 500 cd voucher 125gift guarante free entri 2 100 wkli draw txt music 87066 tnc www ldew com1win150ppmx3age16',\n",
       " 'u 447801259231 secret admir look 2 make contact u find r reveal think ur special call 09058094597',\n",
       " 'text meet someon sexi today u find date even flirt u join 4 10p repli name age eg sam 25 18 msg recd thirtyeight penc',\n",
       " 'u meet ur dream partner soon ur career 2 flyng start 2 find free txt horo follow ur star sign e g horo ari',\n",
       " '500 new mobil 2004 must go txt nokia 89545 collect today 1 www 4 tc biz 2optout 087187262701 50gbp mtmsg18',\n",
       " 'uniqu enough find 30th august www areyouuniqu co uk',\n",
       " 'pleas call custom servic repres freephon 0808 145 4742 9am 11pm guarante 1000 cash 5000 prize',\n",
       " 'urgent tri contact last weekend draw show 900 prize guarante call 09061701939 claim code s89 valid 12hr',\n",
       " 'bangbab ur order way u receiv servic msg 2 download ur content u goto wap bangb tv ur mobil internet servic menu',\n",
       " 'pl stop bootydeli 32 f invit friend repli ye 434 434 see www sm ac u bootydeli stop send stop frnd 62468',\n",
       " 'winner u special select 2 receiv 1000 cash 4 holiday flight inc speak live oper 2 claim 0871277810810',\n",
       " 'custom servic annonc new year deliveri wait pleas call 07046744435 arrang deliveri',\n",
       " 'freemsg repli text randi sexi femal live local luv hear u netcollex ltd 08700621170150p per msg repli stop end',\n",
       " 'rcv msg chat svc free hardcor servic text go 69988 u get noth u must age verifi yr network tri',\n",
       " 'want 2 get laid tonight want real dog locat sent direct 2 ur mob join uk largest dog network bt txting gravel 69888 nt ec2a 31p msg 150p',\n",
       " 'sunshin quiz wkli q win top soni dvd player u know countri algarv txt ansr 82277 1 50 sp tyron',\n",
       " 'today voda number end 7548 select receiv 350 award match pleas call 08712300220 quot claim code 4041 standard rate app',\n",
       " 'urgent mobil award 2000 bonu caller prize 5 9 03 final tri contact u call landlin 09064019788 box42wr29c 150ppm',\n",
       " 'privat 2004 account statement 07742676969 show 786 unredeem bonu point claim call 08719180248 identifi code 45239 expir',\n",
       " 'winner u special select 2 receiv 1000 4 holiday flight inc speak live oper 2 claim 0871277810910p min 18',\n",
       " 'gent tri contact last weekend draw show 1000 prize guarante call 09064012160 claim code k52 valid 12hr 150ppm',\n",
       " 'pleas call custom servic repres 0800 169 6031 10am 9pm guarante 1000 cash 5000 prize',\n",
       " 'hear new divorc barbi come ken stuff',\n",
       " 'urgent ur award complimentari trip eurodisinc trav aco entry41 1000 claim txt di 87121 18 6 1 50 morefrmmob shracomorsglsuplt 10 ls1 3aj',\n",
       " 'valu custom pleas advis follow recent review mob award 1500 bonu prize call 09066364589',\n",
       " 'congrat 1 year special cinema pass 2 call 09061209465 c suprman v matrix3 starwars3 etc 4 free bx420 ip4 5we 150pm dont miss',\n",
       " 'sm ac sptv new jersey devil detroit red wing play ice hockey correct incorrect end repli end sptv',\n",
       " '07732584351 rodger burn msg tri call repli sm free nokia mobil free camcord pleas call 08000930705 deliveri tomorrow',\n",
       " 'thank subscript rington uk mobil charg 5 month pleas confirm repli ye repli charg',\n",
       " 'england v macedonia dont miss goal team news txt ur nation team 87077 eg england 87077 tri wale scotland 4txt 1 20 poboxox36504w45wq 16',\n",
       " 'xxxmobilemovieclub use credit click wap link next txt messag click http wap xxxmobilemovieclub com n qjkgighjjgcbl',\n",
       " 'urgent 1 week free membership 100 000 prize jackpot txt word claim 81010 c www dbuk net lccltd pobox 4403ldnw1a7rw18',\n",
       " 'six chanc win cash 100 20 000 pound txt csh11 send 87575 cost 150p day 6day 16 tsandc appli repli hl 4 info',\n",
       " 'mobil 11 month u r entitl updat latest colour mobil camera free call mobil updat co free 08002986030',\n",
       " 'winner valu network custom select receivea 900 prize reward claim call 09061701461 claim code kl341 valid 12 hour',\n",
       " 'freemsg hey darl 3 week word back like fun still tb ok xxx std chg send 1 50 rcv',\n",
       " 'free entri 2 wkli comp win fa cup final tkt 21st may 2005 text fa 87121 receiv entri question std txt rate c appli 08452810075over18',\n",
       " 'de ask like',\n",
       " 'live next lt gt min',\n",
       " 'run manag 5 minut need oxygen might resort roller option',\n",
       " 'oh haha den shld went today gee nvm la kaiez dun mind goin jazz oso scare hiphop open cant catch',\n",
       " 'need 8th campu atm could pick hour two',\n",
       " 'thanx 4 puttin da fone',\n",
       " 'plan stay night prolli back til late',\n",
       " 'hey j r u feel better hopeso hunni amnow feelin ill ithink may tonsolitusaswel damn iam layin bedreal bore lotsof luv xxxx',\n",
       " 'freemsg txt call 86888 claim reward 3 hour talk time use phone subscribe6gbp mnth inc 3hr 16 stop txtstop',\n",
       " 'hi u decid wot 2 get 4 bday ill prob ju get voucher frm virgin sumf',\n",
       " 'laid airtel line rest',\n",
       " 'stuck da middl da row da right hand side da lt',\n",
       " 'full heat pa appli oil pa',\n",
       " 'carlo pick swing usf littl bit',\n",
       " 'yo sorri shower sup',\n",
       " 'good time nice someth bit differ weekend chang see ya soon',\n",
       " 'ok wun b angri msg u aft come home tonight',\n",
       " 'right wasnt phone someon number like',\n",
       " 'well done england get offici poli rington colour flag yer mobil text tone flag 84199 opt txt eng stop box39822 w111wx 1 50',\n",
       " 'tomorrow go theatr come wherev u call tell come tomorrow',\n",
       " 'finish work yet someth',\n",
       " 'want wish happi new year want talk legal advic gari split person make trip ptbo hope everyth good babe love ya',\n",
       " 'see swing bit got thing take care firsg',\n",
       " 'mila age23 blond new uk look sex uk guy u like fun text mtalk 69866 18 30pp txt 1st 5free 1 50 increment help08718728876',\n",
       " 'u secret admir look 2 make contact u find r reveal think ur special call 09065171142 stopsm 08718727870150ppm',\n",
       " 'noooooooo pleas last thing need stress life fair',\n",
       " 'ur chanc win 250 wkli shop spree txt shop 80878 c www txt 2 shop com custcar 08715705022 1x150p wk',\n",
       " 'wow think common take back ur freak unless u chop',\n",
       " 'cours math one day one chapter one month finish',\n",
       " 'hi engag fixd lt gt th next month know realli shock bt hmm njan vilikkam ws al sudn',\n",
       " 'plan yet',\n",
       " 'urgent call 09066350750 landlin complimentari 4 ibiza holiday 10 000 cash await collect sae cs po box 434 sk3 8wp 150 ppm 18',\n",
       " 'contract mobil 11 mnth latest motorola nokia etc free doubl min text orang tariff text ye callback remov record',\n",
       " 'congratul ur award 500 cd voucher 125gift guarante free entri 2 100 wkli draw txt music 87066',\n",
       " 'directli behind abt 4 row behind',\n",
       " '',\n",
       " 'urgent 2nd attempt contact u u 1000call 09071512432 b4 300603t csbcm4235wc1n3xx callcost150ppmmobilesvari max 7 50',\n",
       " 'omg u know ate',\n",
       " 'cha quiteamuz scool babe probpop cu satthen hunni 4brekki love jen xxx psxtra lrg portion 4 pleas',\n",
       " 'wanna laugh tri chit chat mobil logon txting word chat send 8883 cm po box 4217 london w1a 6zf 16 118p msg rcvd',\n",
       " 'time come tomorrow',\n",
       " 'hiya how go sunni africa hope u r avin good time give big old silver back big kiss',\n",
       " 'togeth thinkin',\n",
       " 'buy blackberri bold 2 torch buy new use let know plu say buy lt gt g wifi ipad say lt gt g',\n",
       " 'honeybe said sweetest world god laugh amp said wait u havnt met person read msg moral even god crack joke gm gn ge gn',\n",
       " 'tell address',\n",
       " 'come around lt decim gt pm vikki otsid nw il come tht time',\n",
       " 'much u tri get',\n",
       " 'good afternoon boytoy goe walk day get polic abstract still wake miss babe',\n",
       " 'awak oh',\n",
       " 'think da wil',\n",
       " 'piss talk someon realis u point read backward',\n",
       " 'hospit da return home even',\n",
       " 'gettin rdi ship comp',\n",
       " '7 wonder world 7th 6th ur style 5th ur smile 4th ur person 3rd ur natur 2nd ur sm 1st ur love friendship good morn dear',\n",
       " 'tri someth dear read someth exam',\n",
       " 'sun ah thk mayb dun anythin thk book e lesson e pilat orchard mrt u noe hor',\n",
       " 'symptom u love 1 u like listen song 2 u get stop u see name belov 3 u get angri',\n",
       " 'great safe trip dont panic surrend']"
      ]
     },
     "execution_count": 20,
     "metadata": {},
     "output_type": "execute_result"
    }
   ],
   "source": [
    "corpus"
   ]
  },
  {
   "cell_type": "markdown",
   "id": "4f7570a5",
   "metadata": {},
   "source": [
    "Vecotrization "
   ]
  },
  {
   "cell_type": "code",
   "execution_count": 36,
   "id": "d2310b24",
   "metadata": {},
   "outputs": [],
   "source": [
    "#using bow \n",
    "#use max_featurs = 1000 only when the dataset is huge my dataset has only 125 rows so not required \n",
    "from sklearn.feature_extraction.text import CountVectorizer\n",
    "cv = CountVectorizer(binary=True)\n",
    "x = cv.fit_transform(corpus).toarray()"
   ]
  },
  {
   "cell_type": "code",
   "execution_count": 34,
   "id": "6d26fcb7",
   "metadata": {},
   "outputs": [],
   "source": [
    "y = dataset['Label'].map({'Non-Spam': 0, 'Spam': 1}).values\n"
   ]
  },
  {
   "cell_type": "code",
   "execution_count": 35,
   "id": "8a2da5ad",
   "metadata": {},
   "outputs": [
    {
     "data": {
      "text/plain": [
       "array([1, 1, 1, 1, 1, 1, 1, 1, 1, 1, 1, 1, 1, 1, 1, 1, 1, 1, 1, 1, 1, 1,\n",
       "       1, 1, 1, 1, 1, 1, 1, 1, 1, 1, 1, 1, 1, 1, 1, 1, 1, 1, 1, 1, 1, 1,\n",
       "       1, 1, 1, 1, 1, 1, 1, 1, 1, 1, 1, 1, 1, 1, 1, 1, 1, 1, 1, 1, 1, 1,\n",
       "       0, 0, 0, 0, 0, 0, 0, 0, 1, 0, 0, 0, 0, 0, 0, 0, 0, 0, 1, 0, 0, 0,\n",
       "       0, 1, 1, 0, 1, 0, 0, 0, 0, 1, 1, 1, 0, 0, 1, 0, 0, 1, 0, 0, 0, 0,\n",
       "       0, 0, 0, 0, 0, 0, 0, 0, 0, 0, 0, 0, 0, 0, 0], dtype=int64)"
      ]
     },
     "execution_count": 35,
     "metadata": {},
     "output_type": "execute_result"
    }
   ],
   "source": [
    "y"
   ]
  },
  {
   "cell_type": "markdown",
   "id": "b372cb73",
   "metadata": {},
   "source": [
    "Train Model"
   ]
  },
  {
   "cell_type": "code",
   "execution_count": 37,
   "id": "0664d845",
   "metadata": {},
   "outputs": [],
   "source": [
    "from sklearn.model_selection import train_test_split\n",
    "\n",
    "x_train, x_test, y_train, y_test = train_test_split(x,y, test_size= 0.20, random_state= 0)"
   ]
  },
  {
   "cell_type": "code",
   "execution_count": 38,
   "id": "89e72b9a",
   "metadata": {},
   "outputs": [],
   "source": [
    "from sklearn.naive_bayes import MultinomialNB\n",
    "\n",
    "spam_detect_model = MultinomialNB().fit(x_train,y_train)"
   ]
  },
  {
   "cell_type": "code",
   "execution_count": 39,
   "id": "d316a614",
   "metadata": {},
   "outputs": [],
   "source": [
    "y_pred = spam_detect_model.predict(x_test)"
   ]
  },
  {
   "cell_type": "code",
   "execution_count": 41,
   "id": "3c7e8597",
   "metadata": {},
   "outputs": [
    {
     "name": "stdout",
     "output_type": "stream",
     "text": [
      "0.96\n"
     ]
    }
   ],
   "source": [
    "from sklearn.metrics import accuracy_score, classification_report\n",
    "\n",
    "score = accuracy_score(y_test,y_pred)\n",
    "print(score)"
   ]
  },
  {
   "cell_type": "code",
   "execution_count": 42,
   "id": "652bbfb5",
   "metadata": {},
   "outputs": [
    {
     "name": "stdout",
     "output_type": "stream",
     "text": [
      "              precision    recall  f1-score   support\n",
      "\n",
      "           0       1.00      0.83      0.91         6\n",
      "           1       0.95      1.00      0.97        19\n",
      "\n",
      "    accuracy                           0.96        25\n",
      "   macro avg       0.97      0.92      0.94        25\n",
      "weighted avg       0.96      0.96      0.96        25\n",
      "\n"
     ]
    }
   ],
   "source": [
    "print(classification_report(y_pred,y_test))"
   ]
  },
  {
   "cell_type": "code",
   "execution_count": 43,
   "id": "8251e144",
   "metadata": {},
   "outputs": [],
   "source": [
    "#using tfidf\n",
    "\n",
    "from sklearn.feature_extraction.text import TfidfVectorizer\n",
    "tf = TfidfVectorizer()\n",
    "X = tf.fit_transform(corpus).toarray()"
   ]
  },
  {
   "cell_type": "code",
   "execution_count": 44,
   "id": "2bcdb71c",
   "metadata": {},
   "outputs": [],
   "source": [
    "#train test split \n",
    "X_train, X_test, y_train, y_test = train_test_split(X,y, test_size=0.20, random_state=0)"
   ]
  },
  {
   "cell_type": "code",
   "execution_count": 46,
   "id": "59e1c9e0",
   "metadata": {},
   "outputs": [],
   "source": [
    "tfmodel = MultinomialNB().fit(X_train, y_train)\n",
    "\n",
    "y_pred = tfmodel.predict(X_test)\n",
    "\n"
   ]
  },
  {
   "cell_type": "code",
   "execution_count": 48,
   "id": "6155968e",
   "metadata": {},
   "outputs": [
    {
     "data": {
      "text/plain": [
       "0.96"
      ]
     },
     "execution_count": 48,
     "metadata": {},
     "output_type": "execute_result"
    }
   ],
   "source": [
    "score1 = accuracy_score(y_test, y_pred)\n",
    "score1"
   ]
  },
  {
   "cell_type": "code",
   "execution_count": 49,
   "id": "54ad343e",
   "metadata": {},
   "outputs": [
    {
     "name": "stdout",
     "output_type": "stream",
     "text": [
      "              precision    recall  f1-score   support\n",
      "\n",
      "           0       0.80      1.00      0.89         4\n",
      "           1       1.00      0.95      0.98        21\n",
      "\n",
      "    accuracy                           0.96        25\n",
      "   macro avg       0.90      0.98      0.93        25\n",
      "weighted avg       0.97      0.96      0.96        25\n",
      "\n"
     ]
    }
   ],
   "source": [
    "print(classification_report(y_pred, y_test))"
   ]
  },
  {
   "cell_type": "code",
   "execution_count": null,
   "id": "6dcaf1d9",
   "metadata": {},
   "outputs": [],
   "source": []
  }
 ],
 "metadata": {
  "kernelspec": {
   "display_name": ".venv",
   "language": "python",
   "name": "python3"
  },
  "language_info": {
   "codemirror_mode": {
    "name": "ipython",
    "version": 3
   },
   "file_extension": ".py",
   "mimetype": "text/x-python",
   "name": "python",
   "nbconvert_exporter": "python",
   "pygments_lexer": "ipython3",
   "version": "3.12.6"
  }
 },
 "nbformat": 4,
 "nbformat_minor": 5
}
